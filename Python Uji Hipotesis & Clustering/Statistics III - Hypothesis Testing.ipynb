{
 "cells": [
  {
   "cell_type": "markdown",
   "metadata": {
    "id": "AU6pyBpS1Qsf"
   },
   "source": [
    "# Import Library"
   ]
  },
  {
   "cell_type": "code",
   "execution_count": 1,
   "metadata": {
    "executionInfo": {
     "elapsed": 1189,
     "status": "ok",
     "timestamp": 1638678267813,
     "user": {
      "displayName": "Abdullah Ghifari",
      "photoUrl": "https://lh3.googleusercontent.com/a-/AOh14Gi_wxBHhERLa5vUWkqgMzTiwmVI3rz_PbwpPfG8=s64",
      "userId": "10253831078468040701"
     },
     "user_tz": -420
    },
    "id": "ZQpL_A8v1Qsj"
   },
   "outputs": [],
   "source": [
    "import pandas as pd\n",
    "import numpy as np\n",
    "import scipy.stats as st"
   ]
  },
  {
   "cell_type": "markdown",
   "metadata": {
    "id": "SC_o6cmk1Qsk"
   },
   "source": [
    "# Read Dataset"
   ]
  },
  {
   "cell_type": "code",
   "execution_count": 2,
   "metadata": {
    "executionInfo": {
     "elapsed": 5,
     "status": "ok",
     "timestamp": 1638678270424,
     "user": {
      "displayName": "Abdullah Ghifari",
      "photoUrl": "https://lh3.googleusercontent.com/a-/AOh14Gi_wxBHhERLa5vUWkqgMzTiwmVI3rz_PbwpPfG8=s64",
      "userId": "10253831078468040701"
     },
     "user_tz": -420
    },
    "id": "xuxfMOEV1Qsl"
   },
   "outputs": [],
   "source": [
    "df = pd.read_csv('e-commerce_example_dataset.csv')"
   ]
  },
  {
   "cell_type": "code",
   "execution_count": 3,
   "metadata": {
    "colab": {
     "base_uri": "https://localhost:8080/"
    },
    "executionInfo": {
     "elapsed": 6,
     "status": "ok",
     "timestamp": 1638678271945,
     "user": {
      "displayName": "Abdullah Ghifari",
      "photoUrl": "https://lh3.googleusercontent.com/a-/AOh14Gi_wxBHhERLa5vUWkqgMzTiwmVI3rz_PbwpPfG8=s64",
      "userId": "10253831078468040701"
     },
     "user_tz": -420
    },
    "id": "OR6iFiuu1Qsl",
    "outputId": "88171e39-c7a1-48a6-b2dc-10224c528985"
   },
   "outputs": [
    {
     "data": {
      "text/plain": [
       "(100, 3)"
      ]
     },
     "execution_count": 3,
     "metadata": {},
     "output_type": "execute_result"
    }
   ],
   "source": [
    "df.shape"
   ]
  },
  {
   "cell_type": "code",
   "execution_count": 4,
   "metadata": {
    "colab": {
     "base_uri": "https://localhost:8080/",
     "height": 206
    },
    "executionInfo": {
     "elapsed": 296,
     "status": "ok",
     "timestamp": 1638678279951,
     "user": {
      "displayName": "Abdullah Ghifari",
      "photoUrl": "https://lh3.googleusercontent.com/a-/AOh14Gi_wxBHhERLa5vUWkqgMzTiwmVI3rz_PbwpPfG8=s64",
      "userId": "10253831078468040701"
     },
     "user_tz": -420
    },
    "id": "cwzbqj9-1ikK",
    "outputId": "6f12af57-2404-49f7-f2cf-9e4d622aeb37"
   },
   "outputs": [
    {
     "data": {
      "text/html": [
       "<div>\n",
       "<style scoped>\n",
       "    .dataframe tbody tr th:only-of-type {\n",
       "        vertical-align: middle;\n",
       "    }\n",
       "\n",
       "    .dataframe tbody tr th {\n",
       "        vertical-align: top;\n",
       "    }\n",
       "\n",
       "    .dataframe thead th {\n",
       "        text-align: right;\n",
       "    }\n",
       "</style>\n",
       "<table border=\"1\" class=\"dataframe\">\n",
       "  <thead>\n",
       "    <tr style=\"text-align: right;\">\n",
       "      <th></th>\n",
       "      <th>gmv</th>\n",
       "      <th>discount</th>\n",
       "      <th>user_id</th>\n",
       "    </tr>\n",
       "  </thead>\n",
       "  <tbody>\n",
       "    <tr>\n",
       "      <th>0</th>\n",
       "      <td>1324911</td>\n",
       "      <td>not-discount</td>\n",
       "      <td>1</td>\n",
       "    </tr>\n",
       "    <tr>\n",
       "      <th>1</th>\n",
       "      <td>1625874</td>\n",
       "      <td>not-discount</td>\n",
       "      <td>2</td>\n",
       "    </tr>\n",
       "    <tr>\n",
       "      <th>2</th>\n",
       "      <td>1432984</td>\n",
       "      <td>not-discount</td>\n",
       "      <td>3</td>\n",
       "    </tr>\n",
       "    <tr>\n",
       "      <th>3</th>\n",
       "      <td>1294427</td>\n",
       "      <td>not-discount</td>\n",
       "      <td>4</td>\n",
       "    </tr>\n",
       "    <tr>\n",
       "      <th>4</th>\n",
       "      <td>1635693</td>\n",
       "      <td>not-discount</td>\n",
       "      <td>5</td>\n",
       "    </tr>\n",
       "  </tbody>\n",
       "</table>\n",
       "</div>"
      ],
      "text/plain": [
       "       gmv      discount  user_id\n",
       "0  1324911  not-discount        1\n",
       "1  1625874  not-discount        2\n",
       "2  1432984  not-discount        3\n",
       "3  1294427  not-discount        4\n",
       "4  1635693  not-discount        5"
      ]
     },
     "execution_count": 4,
     "metadata": {},
     "output_type": "execute_result"
    }
   ],
   "source": [
    "df.head()"
   ]
  },
  {
   "cell_type": "code",
   "execution_count": 5,
   "metadata": {
    "id": "FSogpfPu1Qsm",
    "outputId": "205b451f-2c6b-41ec-c5a8-019758858384"
   },
   "outputs": [
    {
     "data": {
      "text/plain": [
       "discount        65\n",
       "not-discount    35\n",
       "Name: discount, dtype: int64"
      ]
     },
     "execution_count": 5,
     "metadata": {},
     "output_type": "execute_result"
    }
   ],
   "source": [
    "df['discount'].value_counts()"
   ]
  },
  {
   "cell_type": "code",
   "execution_count": 6,
   "metadata": {
    "id": "LvuUMLJG1Qsm",
    "outputId": "ff9e8899-4b9c-4660-9e39-a5bdc870e91b"
   },
   "outputs": [
    {
     "data": {
      "text/html": [
       "<div>\n",
       "<style scoped>\n",
       "    .dataframe tbody tr th:only-of-type {\n",
       "        vertical-align: middle;\n",
       "    }\n",
       "\n",
       "    .dataframe tbody tr th {\n",
       "        vertical-align: top;\n",
       "    }\n",
       "\n",
       "    .dataframe thead th {\n",
       "        text-align: right;\n",
       "    }\n",
       "</style>\n",
       "<table border=\"1\" class=\"dataframe\">\n",
       "  <thead>\n",
       "    <tr style=\"text-align: right;\">\n",
       "      <th></th>\n",
       "      <th>gmv</th>\n",
       "      <th>discount</th>\n",
       "      <th>user_id</th>\n",
       "    </tr>\n",
       "  </thead>\n",
       "  <tbody>\n",
       "    <tr>\n",
       "      <th>0</th>\n",
       "      <td>1324911</td>\n",
       "      <td>not-discount</td>\n",
       "      <td>1</td>\n",
       "    </tr>\n",
       "    <tr>\n",
       "      <th>1</th>\n",
       "      <td>1625874</td>\n",
       "      <td>not-discount</td>\n",
       "      <td>2</td>\n",
       "    </tr>\n",
       "    <tr>\n",
       "      <th>2</th>\n",
       "      <td>1432984</td>\n",
       "      <td>not-discount</td>\n",
       "      <td>3</td>\n",
       "    </tr>\n",
       "    <tr>\n",
       "      <th>3</th>\n",
       "      <td>1294427</td>\n",
       "      <td>not-discount</td>\n",
       "      <td>4</td>\n",
       "    </tr>\n",
       "    <tr>\n",
       "      <th>4</th>\n",
       "      <td>1635693</td>\n",
       "      <td>not-discount</td>\n",
       "      <td>5</td>\n",
       "    </tr>\n",
       "  </tbody>\n",
       "</table>\n",
       "</div>"
      ],
      "text/plain": [
       "       gmv      discount  user_id\n",
       "0  1324911  not-discount        1\n",
       "1  1625874  not-discount        2\n",
       "2  1432984  not-discount        3\n",
       "3  1294427  not-discount        4\n",
       "4  1635693  not-discount        5"
      ]
     },
     "execution_count": 6,
     "metadata": {},
     "output_type": "execute_result"
    }
   ],
   "source": [
    "df.head()"
   ]
  },
  {
   "cell_type": "markdown",
   "metadata": {
    "id": "5rAMBLCG1Qsn"
   },
   "source": [
    "# Langkah 1"
   ]
  },
  {
   "cell_type": "markdown",
   "metadata": {
    "id": "whoyAa4U1Qso"
   },
   "source": [
    "Apakah rata rata gmv discount > gmv non-discount"
   ]
  },
  {
   "cell_type": "markdown",
   "metadata": {
    "id": "U4G9uwyL1Qso"
   },
   "source": [
    "H0 : rata-rata gmv discount **sama dengan atau kurang dari** gmv non-discount <br>\n",
    "H1 : rata-rata gmv discount **lebih dari** gmv non-discount"
   ]
  },
  {
   "cell_type": "code",
   "execution_count": null,
   "metadata": {
    "id": "UgcPwkSw1Qsp"
   },
   "outputs": [],
   "source": [
    "#?st.ttest_ind"
   ]
  },
  {
   "cell_type": "code",
   "execution_count": 7,
   "metadata": {
    "executionInfo": {
     "elapsed": 288,
     "status": "ok",
     "timestamp": 1638678398214,
     "user": {
      "displayName": "Abdullah Ghifari",
      "photoUrl": "https://lh3.googleusercontent.com/a-/AOh14Gi_wxBHhERLa5vUWkqgMzTiwmVI3rz_PbwpPfG8=s64",
      "userId": "10253831078468040701"
     },
     "user_tz": -420
    },
    "id": "vclUFePm1Qsp"
   },
   "outputs": [],
   "source": [
    "discount = df[df['discount']=='discount']\n",
    "not_discount = df[df['discount']!='discount']"
   ]
  },
  {
   "cell_type": "code",
   "execution_count": 9,
   "metadata": {
    "colab": {
     "base_uri": "https://localhost:8080/",
     "height": 206
    },
    "executionInfo": {
     "elapsed": 293,
     "status": "ok",
     "timestamp": 1638678401298,
     "user": {
      "displayName": "Abdullah Ghifari",
      "photoUrl": "https://lh3.googleusercontent.com/a-/AOh14Gi_wxBHhERLa5vUWkqgMzTiwmVI3rz_PbwpPfG8=s64",
      "userId": "10253831078468040701"
     },
     "user_tz": -420
    },
    "id": "1CNY59gi1Qsp",
    "outputId": "abe103db-0cd1-4c88-88c7-dc60ce66c3e3"
   },
   "outputs": [
    {
     "data": {
      "text/html": [
       "<div>\n",
       "<style scoped>\n",
       "    .dataframe tbody tr th:only-of-type {\n",
       "        vertical-align: middle;\n",
       "    }\n",
       "\n",
       "    .dataframe tbody tr th {\n",
       "        vertical-align: top;\n",
       "    }\n",
       "\n",
       "    .dataframe thead th {\n",
       "        text-align: right;\n",
       "    }\n",
       "</style>\n",
       "<table border=\"1\" class=\"dataframe\">\n",
       "  <thead>\n",
       "    <tr style=\"text-align: right;\">\n",
       "      <th></th>\n",
       "      <th>gmv</th>\n",
       "      <th>discount</th>\n",
       "      <th>user_id</th>\n",
       "    </tr>\n",
       "  </thead>\n",
       "  <tbody>\n",
       "    <tr>\n",
       "      <th>35</th>\n",
       "      <td>1915181</td>\n",
       "      <td>discount</td>\n",
       "      <td>36</td>\n",
       "    </tr>\n",
       "    <tr>\n",
       "      <th>36</th>\n",
       "      <td>1481660</td>\n",
       "      <td>discount</td>\n",
       "      <td>37</td>\n",
       "    </tr>\n",
       "    <tr>\n",
       "      <th>37</th>\n",
       "      <td>1517240</td>\n",
       "      <td>discount</td>\n",
       "      <td>38</td>\n",
       "    </tr>\n",
       "    <tr>\n",
       "      <th>38</th>\n",
       "      <td>1705569</td>\n",
       "      <td>discount</td>\n",
       "      <td>39</td>\n",
       "    </tr>\n",
       "    <tr>\n",
       "      <th>39</th>\n",
       "      <td>1571139</td>\n",
       "      <td>discount</td>\n",
       "      <td>40</td>\n",
       "    </tr>\n",
       "  </tbody>\n",
       "</table>\n",
       "</div>"
      ],
      "text/plain": [
       "        gmv  discount  user_id\n",
       "35  1915181  discount       36\n",
       "36  1481660  discount       37\n",
       "37  1517240  discount       38\n",
       "38  1705569  discount       39\n",
       "39  1571139  discount       40"
      ]
     },
     "execution_count": 9,
     "metadata": {},
     "output_type": "execute_result"
    }
   ],
   "source": [
    "discount.head()"
   ]
  },
  {
   "cell_type": "code",
   "execution_count": 10,
   "metadata": {
    "colab": {
     "base_uri": "https://localhost:8080/",
     "height": 206
    },
    "executionInfo": {
     "elapsed": 303,
     "status": "ok",
     "timestamp": 1638678407520,
     "user": {
      "displayName": "Abdullah Ghifari",
      "photoUrl": "https://lh3.googleusercontent.com/a-/AOh14Gi_wxBHhERLa5vUWkqgMzTiwmVI3rz_PbwpPfG8=s64",
      "userId": "10253831078468040701"
     },
     "user_tz": -420
    },
    "id": "FepenNnH1Qsq",
    "outputId": "e0e938c3-60e8-421b-9d70-789ecdc994a7"
   },
   "outputs": [
    {
     "data": {
      "text/html": [
       "<div>\n",
       "<style scoped>\n",
       "    .dataframe tbody tr th:only-of-type {\n",
       "        vertical-align: middle;\n",
       "    }\n",
       "\n",
       "    .dataframe tbody tr th {\n",
       "        vertical-align: top;\n",
       "    }\n",
       "\n",
       "    .dataframe thead th {\n",
       "        text-align: right;\n",
       "    }\n",
       "</style>\n",
       "<table border=\"1\" class=\"dataframe\">\n",
       "  <thead>\n",
       "    <tr style=\"text-align: right;\">\n",
       "      <th></th>\n",
       "      <th>gmv</th>\n",
       "      <th>discount</th>\n",
       "      <th>user_id</th>\n",
       "    </tr>\n",
       "  </thead>\n",
       "  <tbody>\n",
       "    <tr>\n",
       "      <th>0</th>\n",
       "      <td>1324911</td>\n",
       "      <td>not-discount</td>\n",
       "      <td>1</td>\n",
       "    </tr>\n",
       "    <tr>\n",
       "      <th>1</th>\n",
       "      <td>1625874</td>\n",
       "      <td>not-discount</td>\n",
       "      <td>2</td>\n",
       "    </tr>\n",
       "    <tr>\n",
       "      <th>2</th>\n",
       "      <td>1432984</td>\n",
       "      <td>not-discount</td>\n",
       "      <td>3</td>\n",
       "    </tr>\n",
       "    <tr>\n",
       "      <th>3</th>\n",
       "      <td>1294427</td>\n",
       "      <td>not-discount</td>\n",
       "      <td>4</td>\n",
       "    </tr>\n",
       "    <tr>\n",
       "      <th>4</th>\n",
       "      <td>1635693</td>\n",
       "      <td>not-discount</td>\n",
       "      <td>5</td>\n",
       "    </tr>\n",
       "  </tbody>\n",
       "</table>\n",
       "</div>"
      ],
      "text/plain": [
       "       gmv      discount  user_id\n",
       "0  1324911  not-discount        1\n",
       "1  1625874  not-discount        2\n",
       "2  1432984  not-discount        3\n",
       "3  1294427  not-discount        4\n",
       "4  1635693  not-discount        5"
      ]
     },
     "execution_count": 10,
     "metadata": {},
     "output_type": "execute_result"
    }
   ],
   "source": [
    "not_discount.head()"
   ]
  },
  {
   "cell_type": "markdown",
   "metadata": {
    "id": "OyX_qkMJ1Qsq"
   },
   "source": [
    "# Langkah 2"
   ]
  },
  {
   "cell_type": "code",
   "execution_count": 11,
   "metadata": {
    "colab": {
     "base_uri": "https://localhost:8080/"
    },
    "executionInfo": {
     "elapsed": 321,
     "status": "ok",
     "timestamp": 1638678880311,
     "user": {
      "displayName": "Abdullah Ghifari",
      "photoUrl": "https://lh3.googleusercontent.com/a-/AOh14Gi_wxBHhERLa5vUWkqgMzTiwmVI3rz_PbwpPfG8=s64",
      "userId": "10253831078468040701"
     },
     "user_tz": -420
    },
    "id": "uebLUYmc1Qsq",
    "outputId": "2633e22c-aa54-4dff-a37e-df0304776435"
   },
   "outputs": [
    {
     "data": {
      "text/plain": [
       "1624246.553846154"
      ]
     },
     "execution_count": 11,
     "metadata": {},
     "output_type": "execute_result"
    }
   ],
   "source": [
    "discount['gmv'].mean()"
   ]
  },
  {
   "cell_type": "code",
   "execution_count": 12,
   "metadata": {
    "colab": {
     "base_uri": "https://localhost:8080/"
    },
    "executionInfo": {
     "elapsed": 18,
     "status": "ok",
     "timestamp": 1638678880312,
     "user": {
      "displayName": "Abdullah Ghifari",
      "photoUrl": "https://lh3.googleusercontent.com/a-/AOh14Gi_wxBHhERLa5vUWkqgMzTiwmVI3rz_PbwpPfG8=s64",
      "userId": "10253831078468040701"
     },
     "user_tz": -420
    },
    "id": "_XKpubXr1Qsr",
    "outputId": "5a289820-a819-4960-bc09-08975878d3a0"
   },
   "outputs": [
    {
     "data": {
      "text/plain": [
       "1400420.4"
      ]
     },
     "execution_count": 12,
     "metadata": {},
     "output_type": "execute_result"
    }
   ],
   "source": [
    "not_discount['gmv'].mean()"
   ]
  },
  {
   "cell_type": "markdown",
   "metadata": {
    "id": "f8RnuBJx1Qsr"
   },
   "source": [
    "# Langkah 3 & 4"
   ]
  },
  {
   "cell_type": "code",
   "execution_count": null,
   "metadata": {
    "executionInfo": {
     "elapsed": 15,
     "status": "ok",
     "timestamp": 1638678880313,
     "user": {
      "displayName": "Abdullah Ghifari",
      "photoUrl": "https://lh3.googleusercontent.com/a-/AOh14Gi_wxBHhERLa5vUWkqgMzTiwmVI3rz_PbwpPfG8=s64",
      "userId": "10253831078468040701"
     },
     "user_tz": -420
    },
    "id": "T0-SA_Ed2k3f"
   },
   "outputs": [],
   "source": [
    "?st.ttest_ind"
   ]
  },
  {
   "cell_type": "code",
   "execution_count": 14,
   "metadata": {
    "colab": {
     "base_uri": "https://localhost:8080/"
    },
    "executionInfo": {
     "elapsed": 151,
     "status": "ok",
     "timestamp": 1638678880450,
     "user": {
      "displayName": "Abdullah Ghifari",
      "photoUrl": "https://lh3.googleusercontent.com/a-/AOh14Gi_wxBHhERLa5vUWkqgMzTiwmVI3rz_PbwpPfG8=s64",
      "userId": "10253831078468040701"
     },
     "user_tz": -420
    },
    "id": "q02oWWrs1Qsr",
    "outputId": "313f39bc-a36d-40c9-e505-1974582e7f53"
   },
   "outputs": [
    {
     "name": "stdout",
     "output_type": "stream",
     "text": [
      "P-Value : 0.0009942306670295464\n",
      "Cukup bukti menyatakan (Tolak H0) bahwa rata-rata gmv discount lebih dari gmv non-discount\n"
     ]
    }
   ],
   "source": [
    "# langkah 3\n",
    "ttest = st.ttest_ind(a = discount['gmv'], b=not_discount['gmv'])\n",
    "p_value = ttest.pvalue\n",
    "\n",
    "# langkah 4\n",
    "print('P-Value :',p_value)\n",
    "if p_value >= 0.05:\n",
    "    print('Tidak cukup bukti menyatakan bahwa rata-rata gmv discount lebih dari gmv non-discount')\n",
    "else:\n",
    "    print('Cukup bukti menyatakan (Tolak H0) bahwa rata-rata gmv discount lebih dari gmv non-discount')"
   ]
  },
  {
   "cell_type": "markdown",
   "metadata": {
    "id": "YE-9eV3F1Qss"
   },
   "source": [
    "# Case 2 ANOVA"
   ]
  },
  {
   "cell_type": "code",
   "execution_count": 21,
   "metadata": {
    "executionInfo": {
     "elapsed": 148,
     "status": "ok",
     "timestamp": 1638678880450,
     "user": {
      "displayName": "Abdullah Ghifari",
      "photoUrl": "https://lh3.googleusercontent.com/a-/AOh14Gi_wxBHhERLa5vUWkqgMzTiwmVI3rz_PbwpPfG8=s64",
      "userId": "10253831078468040701"
     },
     "user_tz": -420
    },
    "id": "wHbmd7NI1Qss"
   },
   "outputs": [],
   "source": [
    "df2 = pd.read_csv('Iris.csv')\n",
    "\n",
    "# Langkah 1\n",
    "# H0 : Rata-rata SepalWidthCm sama untuk semua species\n",
    "# H1 : Rata-rata SepalWidthCm berbeda untuk beberapa species\n",
    "\n",
    "# Langkah 2\n",
    "df_versicolor = df2[df2['Species'] == 'Iris-versicolor']\n",
    "df_setosa = df2[df2['Species'] == 'Iris-setosa']\n",
    "df_virginica = df2[df2['Species'] == 'Iris-virginica']"
   ]
  },
  {
   "cell_type": "code",
   "execution_count": 22,
   "metadata": {
    "colab": {
     "base_uri": "https://localhost:8080/"
    },
    "executionInfo": {
     "elapsed": 147,
     "status": "ok",
     "timestamp": 1638678880450,
     "user": {
      "displayName": "Abdullah Ghifari",
      "photoUrl": "https://lh3.googleusercontent.com/a-/AOh14Gi_wxBHhERLa5vUWkqgMzTiwmVI3rz_PbwpPfG8=s64",
      "userId": "10253831078468040701"
     },
     "user_tz": -420
    },
    "id": "mFXHAu0f1Qss",
    "outputId": "ce1d44a6-2a3e-48f6-8ddd-d27f89efb43f"
   },
   "outputs": [
    {
     "data": {
      "text/plain": [
       "Species\n",
       "Iris-setosa        3.418\n",
       "Iris-versicolor    2.770\n",
       "Iris-virginica     2.974\n",
       "Name: SepalWidthCm, dtype: float64"
      ]
     },
     "execution_count": 22,
     "metadata": {},
     "output_type": "execute_result"
    }
   ],
   "source": [
    "df2.groupby(['Species'])['SepalWidthCm'].mean()"
   ]
  },
  {
   "cell_type": "code",
   "execution_count": 23,
   "metadata": {
    "executionInfo": {
     "elapsed": 146,
     "status": "ok",
     "timestamp": 1638678880451,
     "user": {
      "displayName": "Abdullah Ghifari",
      "photoUrl": "https://lh3.googleusercontent.com/a-/AOh14Gi_wxBHhERLa5vUWkqgMzTiwmVI3rz_PbwpPfG8=s64",
      "userId": "10253831078468040701"
     },
     "user_tz": -420
    },
    "id": "PzYVlw0e1Qss"
   },
   "outputs": [],
   "source": [
    "# Langkah 3\n",
    "anova = st.f_oneway(df_versicolor['SepalWidthCm'],df_setosa['SepalWidthCm'],df_virginica['SepalWidthCm'])"
   ]
  },
  {
   "cell_type": "code",
   "execution_count": 27,
   "metadata": {
    "colab": {
     "base_uri": "https://localhost:8080/"
    },
    "executionInfo": {
     "elapsed": 273,
     "status": "ok",
     "timestamp": 1638678963739,
     "user": {
      "displayName": "Abdullah Ghifari",
      "photoUrl": "https://lh3.googleusercontent.com/a-/AOh14Gi_wxBHhERLa5vUWkqgMzTiwmVI3rz_PbwpPfG8=s64",
      "userId": "10253831078468040701"
     },
     "user_tz": -420
    },
    "id": "aJGpG4h93ldu",
    "outputId": "006fd7b3-5bf2-42f1-e10f-145b2971ab2a"
   },
   "outputs": [
    {
     "name": "stdout",
     "output_type": "stream",
     "text": [
      "1.3279165184572242e-16\n",
      "Sufficient Reject H0\n"
     ]
    }
   ],
   "source": [
    "pvalue = anova.pvalue\n",
    "print(pvalue)\n",
    "if pvalue >= 0.05:\n",
    "  print('Insufficient Reject H0')\n",
    "else:\n",
    "  print('Sufficient Reject H0')"
   ]
  }
 ],
 "metadata": {
  "colab": {
   "collapsed_sections": [],
   "name": "Statistics III - Hypothesis Testing.ipynb",
   "provenance": []
  },
  "kernelspec": {
   "display_name": "Python 3 (ipykernel)",
   "language": "python",
   "name": "python3"
  },
  "language_info": {
   "codemirror_mode": {
    "name": "ipython",
    "version": 3
   },
   "file_extension": ".py",
   "mimetype": "text/x-python",
   "name": "python",
   "nbconvert_exporter": "python",
   "pygments_lexer": "ipython3",
   "version": "3.9.12"
  }
 },
 "nbformat": 4,
 "nbformat_minor": 4
}
